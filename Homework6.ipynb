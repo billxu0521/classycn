{
 "metadata": {
  "name": "",
  "signature": "sha256:f03b2ca8b0d72aec6f39c40994c8fe54ad43bd9beea474678af3b9428d4bff41"
 },
 "nbformat": 3,
 "nbformat_minor": 0,
 "worksheets": [
  {
   "cells": [
    {
     "cell_type": "heading",
     "level": 2,
     "metadata": {},
     "source": [
      "15-1 Longest Simple Path in directed acylic graph"
     ]
    },
    {
     "cell_type": "code",
     "collapsed": false,
     "input": [
      "s = 's'\n",
      "t = 't'\n",
      "x = 'x'\n",
      "y = 'y'\n",
      "z = 'z'\n",
      "v = set([s,t,x,y,z])\n",
      "\n",
      "w = {}\n",
      "w[s] = {'t':3,'y':15} # meaning edge t->s = 3\n",
      "w[t] = {'x':6,'y':2}\n",
      "w[x] = {}\n",
      "w[y] = {'x':1}\n",
      "w[z] = {'s':3,'x':7}\n",
      "\n",
      "\n",
      "\n",
      "parent = {} # if entry does not exist or is -inf, than can't get to that vertex. \n",
      "\n",
      "def LD(a, b):\n",
      "    if a == b:\n",
      "        parent[b]=None\n",
      "        return 0\n",
      "    elif not w[b].items():        \n",
      "        return float('-inf')\n",
      "    else:\n",
      "        q = float('-inf')\n",
      "        for x, y in w[b].items():\n",
      "            c = LD(a,x)+y\n",
      "            if c > q: \n",
      "                q = c\n",
      "                p = x\n",
      "        \n",
      "        parent[b]=p\n",
      "        return q\n",
      "\n",
      "def path(a, b): # from a to b\n",
      "    l = LD(a, b) # length of the path\n",
      "    crt = b\n",
      "    result = []\n",
      "    if parent.has_key(crt): \n",
      "        while crt:\n",
      "            result = [crt,]+result\n",
      "            crt = parent[crt]\n",
      "    return l, result\n",
      "\n",
      "print path(x,s)\n",
      "\n",
      "        "
     ],
     "language": "python",
     "metadata": {},
     "outputs": [
      {
       "output_type": "stream",
       "stream": "stdout",
       "text": [
        "(16, ['x', 'y', 's'])\n"
       ]
      }
     ],
     "prompt_number": 4
    },
    {
     "cell_type": "heading",
     "level": 2,
     "metadata": {},
     "source": [
      "15-2 Longest palindrome subsequence"
     ]
    },
    {
     "cell_type": "code",
     "collapsed": false,
     "input": [
      "def LCS(s):\n",
      "    n = len(s)\n",
      "    \n",
      "    length = [[0 for i in range(n+1)] for j in range(n+1)] \n",
      "    # length of LCS by letters\n",
      "    \n",
      "    trace = [[0 for i in range(n+1)] for j in range(n+1)] \n",
      "    # 00: No common letters up to this point; \n",
      "    # 01: Next on i direction (going up)\n",
      "    # 10: Next on j direction (going left)\n",
      "    # 11: Next on both direction (going northwest)\n",
      "\n",
      "    for i in range(1,n+1):\n",
      "        for j in range(1,n+1):\n",
      "            if s[i-1] == s[-j]:\n",
      "                length[i][j]=length[i-1][j-1]+1\n",
      "                trace[i][j]=3\n",
      "            elif length[i-1][j]>=length[i][j-1]:\n",
      "                length[i][j]=length[i-1][j]\n",
      "                trace[i][j]=1\n",
      "            else:\n",
      "                length[i][j]=length[i][j-1]\n",
      "                trace[i][j]=2\n",
      "    \n",
      "    i = n\n",
      "    j = n    \n",
      "    result = \"\"\n",
      "    \n",
      "    while i>0 and j>0:\n",
      "        if trace[i][j]==3:\n",
      "            result = result + s[i-1]\n",
      "            i=i-1\n",
      "            j=j-1\n",
      "        elif trace[i][j]==1:\n",
      "            i = i-1\n",
      "        else: j = j-1\n",
      "    return result\n",
      "\n",
      "print LCS(\"character\")\n",
      "print LCS(\"aibohphobia\")\n",
      "print LCS(\"abced\")\n"
     ],
     "language": "python",
     "metadata": {},
     "outputs": [
      {
       "output_type": "stream",
       "stream": "stdout",
       "text": [
        "carac\n",
        "aibohphobia\n",
        "a\n"
       ]
      }
     ],
     "prompt_number": 6
    },
    {
     "cell_type": "heading",
     "level": 2,
     "metadata": {},
     "source": [
      "15-4: Neat Printing"
     ]
    },
    {
     "cell_type": "code",
     "collapsed": false,
     "input": [
      "l = [1,6,5,7,5,8,6,4,9,6,8,5,8,5,8,7,4,3,2,9,5,4,1,5,2,3,9,6,4,5,6,2,3,4,8,2,3,6,7]\n",
      "m = 20\n",
      "n = len(l)\n",
      "\n",
      "extras = [[None for i in range(n)] for i in range(n)]\n",
      "for i in range(n): \n",
      "    extras[i][i] = m - l[i]\n",
      "    for j in range(i+1,n):\n",
      "        #print i,j\n",
      "        extras[i][j]= extras[i][j-1] - (l[j]+1)\n",
      "\n",
      "cost = [[float('inf') for i in range(n)] for i in range(n)]\n",
      "for i in range(n): \n",
      "    for j in range(i-1,n):\n",
      "        if j == n-1 and extras[i][j] >= 0:\n",
      "            cost[i][j] = 0\n",
      "        elif extras[i][j] >= 0: \n",
      "            cost[i][j] = extras[i][j]\n",
      "    \n",
      "    \n",
      "c = [None for i in range(n+1)]\n",
      "points = [None for i in range(n+1)]\n",
      "\n",
      "c[0] = 0\n",
      "# this loop is 1 over right\n",
      "for j in range(1,n+1):\n",
      "    c[j] = float('inf')\n",
      "    for i in range(1,j+1):\n",
      "        if c[i-1]+cost[i-1][j-1] < c[j]:\n",
      "            c[j] = c[i-1]+cost[i-1][j-1]\n",
      "            points[j]=i\n",
      "\n",
      "print c[1:]\n",
      "print \"Final cost of empty spaces:\", c[-1]\n",
      "print list(set(points[1:]))\n",
      "\n",
      "    "
     ],
     "language": "python",
     "metadata": {},
     "outputs": [
      {
       "output_type": "stream",
       "stream": "stdout",
       "text": [
        "[19, 12, 6, 19, 13, 25, 18, 13, 24, 17, 29, 23, 35, 29, 41, 33, 49, 45, 42, 53, 47, 42, 61, 55, 52, 48, 59, 52, 68, 62, 55, 52, 69, 64, 55, 52, 69, 62, 52]\n",
        "Final cost of empty spaces: 52\n",
        "[1, 2, 3, 5, 6, 8, 9, 10, 11, 12, 14, 15, 16, 18, 19, 20, 21, 22, 25, 26, 28, 29, 30, 31, 32, 33, 34, 36, 37]\n"
       ]
      }
     ],
     "prompt_number": 30
    },
    {
     "cell_type": "code",
     "collapsed": false,
     "input": [],
     "language": "python",
     "metadata": {},
     "outputs": []
    }
   ],
   "metadata": {}
  }
 ]
}