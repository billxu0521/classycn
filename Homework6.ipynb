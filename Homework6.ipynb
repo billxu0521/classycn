{
 "metadata": {
  "name": "",
  "signature": "sha256:aec98625fe68606abf0d5d212300d5509bfd42258c922eb40ce958055a9bce7a"
 },
 "nbformat": 3,
 "nbformat_minor": 0,
 "worksheets": [
  {
   "cells": [
    {
     "cell_type": "heading",
     "level": 2,
     "metadata": {},
     "source": [
      "15-1 Longest Simple Path in directed acylic graph"
     ]
    },
    {
     "cell_type": "code",
     "collapsed": false,
     "input": [
      "s = 's'\n",
      "t = 't'\n",
      "x = 'x'\n",
      "y = 'y'\n",
      "z = 'z'\n",
      "v = set([s,t,x,y,z])\n",
      "\n",
      "w = {}\n",
      "w[s] = {'t':3,'y':15} # meaning edge t->s = 3\n",
      "w[t] = {'x':6,'y':2}\n",
      "w[x] = {}\n",
      "w[y] = {'x':1}\n",
      "w[z] = {'s':3,'x':7}\n",
      "\n",
      "\n",
      "\n",
      "parent = {} # if entry does not exist or is -inf, then can't get to that vertex. \n",
      "\n",
      "def LD(a, b):\n",
      "    if a == b:\n",
      "        parent[b]=None\n",
      "        return 0\n",
      "    elif not w[b].items():        \n",
      "        return float('-inf')\n",
      "    else:\n",
      "        q = float('-inf')\n",
      "        for x, y in w[b].items():\n",
      "            c = LD(a,x)+y\n",
      "            if c > q: \n",
      "                q = c\n",
      "                p = x\n",
      "        \n",
      "        parent[b]=p\n",
      "        return q\n",
      "\n",
      "def path(a, b): # from a to b\n",
      "    l = LD(a, b) # length of the path\n",
      "    crt = b\n",
      "    result = [] # print [] if no such path\n",
      "    if parent.has_key(crt): \n",
      "        while crt:\n",
      "            result = [crt,]+result\n",
      "            crt = parent[crt]\n",
      "    return l, result\n",
      "\n",
      "print path(x,s)\n",
      "\n",
      "        "
     ],
     "language": "python",
     "metadata": {},
     "outputs": [
      {
       "output_type": "stream",
       "stream": "stdout",
       "text": [
        "(16, ['x', 'y', 's'])\n"
       ]
      }
     ],
     "prompt_number": 4
    },
    {
     "cell_type": "markdown",
     "metadata": {},
     "source": [
      "Time Complexity: $O(E)$\n",
      "    \n",
      "Check every edge. \n",
      "\n",
      "Space Complexity: $O(V)$\n",
      "    \n",
      "Save a number for ever vertex. \n"
     ]
    },
    {
     "cell_type": "heading",
     "level": 2,
     "metadata": {},
     "source": [
      "15-2 Longest palindrome subsequence"
     ]
    },
    {
     "cell_type": "code",
     "collapsed": false,
     "input": [
      "def LCS(s):\n",
      "    n = len(s)\n",
      "    \n",
      "    length = [[0 for i in range(n+1)] for j in range(n+1)] \n",
      "    # length of LCS by letters\n",
      "    \n",
      "    trace = [[0 for i in range(n+1)] for j in range(n+1)] \n",
      "    # 00: No common letters up to this point; \n",
      "    # 01: Next on i direction (going up)\n",
      "    # 10: Next on j direction (going left)\n",
      "    # 11: Next on both direction (going northwest)\n",
      "\n",
      "    # Construct table\n",
      "    for i in range(1,n+1):\n",
      "        for j in range(1,n+1):\n",
      "            if s[i-1] == s[-j]:\n",
      "                length[i][j]=length[i-1][j-1]+1\n",
      "                trace[i][j]=3\n",
      "            elif length[i-1][j]>=length[i][j-1]:\n",
      "                length[i][j]=length[i-1][j]\n",
      "                trace[i][j]=1\n",
      "            else:\n",
      "                length[i][j]=length[i][j-1]\n",
      "                trace[i][j]=2\n",
      "    \n",
      "    i = n\n",
      "    j = n    \n",
      "    result = \"\"\n",
      "    \n",
      "    # Trace back for the actual string\n",
      "    while i>0 and j>0:\n",
      "        # northwest\n",
      "        if trace[i][j]==3:\n",
      "            result = result + s[i-1]\n",
      "            i=i-1\n",
      "            j=j-1\n",
      "        # north\n",
      "        elif trace[i][j]==1:\n",
      "            i = i-1\n",
      "        # east\n",
      "        elif trace[i][j]==2:\n",
      "            j = j-1\n",
      "        # path stopped\n",
      "        else:\n",
      "            return None\n",
      "    return result\n",
      "\n",
      "print LCS(\"character\")\n",
      "print LCS(\"aibohphobia\")\n",
      "print LCS(\"abced\")\n"
     ],
     "language": "python",
     "metadata": {},
     "outputs": [
      {
       "output_type": "stream",
       "stream": "stdout",
       "text": [
        "carac\n",
        "aibohphobia\n",
        "a\n"
       ]
      }
     ],
     "prompt_number": 118
    },
    {
     "cell_type": "markdown",
     "metadata": {},
     "source": [
      "Time Complexity: $O(n^2)$\n",
      "    \n",
      "2 - nested loop. \n",
      "\n",
      "Space Complexity: $O(n^2)$\n",
      "    \n",
      "Table of $n^2$ size. \n"
     ]
    },
    {
     "cell_type": "heading",
     "level": 2,
     "metadata": {},
     "source": [
      "15-4: Neat Printing"
     ]
    },
    {
     "cell_type": "code",
     "collapsed": false,
     "input": [
      "l = [1,6,5,7,5,8,6,4,9,6,8,5,8,5,8,7,4,3,2,9,5,4,1,5,2,3,9,6,4,5,6,2,3,4,8,2,3,6,7]\n",
      "l = [1,6,5,7,5]\n",
      "m = 15\n",
      "n = len(l)\n",
      "\n",
      "#http://www.ime.usp.br/~geiser/courses/MAC5711%20-%20An%C3%A1lise%20de%20Algoritmos/Introduction%20to%20Algorithms%20(Instructor's%20Manual).pdf\n",
      "extras = [[None for i in range(n)] for i in range(n)]\n",
      "for i in range(n): \n",
      "    extras[i][i] = m - l[i]\n",
      "    for j in range(i+1,n):\n",
      "        extras[i][j]= extras[i][j-1] - (l[j]+1)\n",
      "\n",
      "cost = [[float('inf') for i in range(n)] for i in range(n)]\n",
      "for i in range(n): \n",
      "    for j in range(i-1,n):\n",
      "        if j == n-1 and extras[i][j] >= 0:\n",
      "            cost[i][j] = 0\n",
      "        elif extras[i][j] >= 0: \n",
      "            cost[i][j] = (extras[i][j])**3\n",
      "#print cost    \n",
      "c = [None for i in range(n)]\n",
      "points = [None for i in range(n)]\n",
      "\n",
      "for j in range(0,n):\n",
      "    c[j] = float('inf')\n",
      "    # i=0\n",
      "    if 0+cost[0][j] < c[j]:\n",
      "        c[j]=0+cost[0][j]\n",
      "        points[j]=0      \n",
      "    \n",
      "    for i in range(1,j+1):\n",
      "        if c[i-1]+cost[i][j] < c[j]:\n",
      "            c[j] = c[i-1]+cost[i][j]\n",
      "            points[j]=i\n",
      "\n",
      "#print c\n",
      "print \"Final cost of empty cube spaces:\", c[-1]\n",
      "#print points\n",
      "\n",
      "p = []\n",
      "crt = n-1\n",
      "while points[crt]:\n",
      "    p = p+[points[crt],]\n",
      "    crt = points[crt]-1\n",
      "p = p+[points[crt],]\n",
      "p.reverse()\n",
      "print \"First index of every line:\",p\n",
      "\n",
      "for i in range(len(p)-1):\n",
      "    print \"Line\",i, sum(l[p[i]:p[i+1]]),l[p[i]:p[i+1]]\n",
      "print   \"Line\",i+1, sum(l[p[i+1]:]),l[p[i+1]:]\n"
     ],
     "language": "python",
     "metadata": {},
     "outputs": [
      {
       "output_type": "stream",
       "stream": "stdout",
       "text": [
        " Final cost of empty cube spaces: 1\n",
        "First index of every line: [0, 3]\n",
        "Line 0 12 [1, 6, 5]\n",
        "Line 1 12 [7, 5]\n"
       ]
      }
     ],
     "prompt_number": 23
    },
    {
     "cell_type": "markdown",
     "metadata": {},
     "source": [
      "Time Complexity: $O(n^2)$\n",
      "    \n",
      "2 - nested loop when constructing. \n",
      "\n",
      "Less than $n$ times when tracing back for the lines. \n",
      "\n",
      "Space Complexity: $O(n^2)$\n",
      "    \n",
      "Table of $n^2$ size. \n"
     ]
    },
    {
     "cell_type": "code",
     "collapsed": false,
     "input": [],
     "language": "python",
     "metadata": {},
     "outputs": []
    }
   ],
   "metadata": {}
  }
 ]
}