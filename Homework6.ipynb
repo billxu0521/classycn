{
 "metadata": {
  "name": "",
  "signature": "sha256:dfbcff7f846414e8911af06445dd8543e3afaf4af5cda236fb1c77b7f0da373e"
 },
 "nbformat": 3,
 "nbformat_minor": 0,
 "worksheets": [
  {
   "cells": [
    {
     "cell_type": "markdown",
     "metadata": {},
     "source": [
      "15-1 Longest Simple Path in directed acylic graph"
     ]
    },
    {
     "cell_type": "code",
     "collapsed": false,
     "input": [
      "s = 's'\n",
      "t = 't'\n",
      "x = 'x'\n",
      "y = 'y'\n",
      "z = 'z'\n",
      "v = set([s,t,x,y,z])\n",
      "\n",
      "w = {}\n",
      "w[s] = {'t':3,'y':15} # meaning edge t->s = 3\n",
      "w[t] = {'x':6,'y':2}\n",
      "w[x] = {}\n",
      "w[y] = {'x':1}\n",
      "w[z] = {'s':3,'x':7}\n",
      "\n",
      "\n",
      "\n",
      "parent = {} # if entry does not exist or is -inf, than can't get to that vertex. \n",
      "\n",
      "def LD(a, b):\n",
      "    if a == b:\n",
      "        parent[b]=None\n",
      "        return 0\n",
      "    elif not w[b].items():        \n",
      "        return float('-inf')\n",
      "    else:\n",
      "        q = float('-inf')\n",
      "        for x, y in w[b].items():\n",
      "            c = LD(a,x)+y\n",
      "            if c > q: \n",
      "                q = c\n",
      "                p = x\n",
      "        \n",
      "        parent[b]=p\n",
      "        return q\n",
      "\n",
      "def path(a, b): # from a to b\n",
      "    l = LD(a, b) # length of the path\n",
      "    crt = b\n",
      "    result = []\n",
      "    if parent.has_key(crt): \n",
      "        while crt:\n",
      "            result = [crt,]+result\n",
      "            crt = parent[crt]\n",
      "    return l, result\n",
      "\n",
      "print path(x,s)\n",
      "\n",
      "        "
     ],
     "language": "python",
     "metadata": {},
     "outputs": [
      {
       "output_type": "stream",
       "stream": "stdout",
       "text": [
        "(16, ['x', 'y', 's'])\n"
       ]
      }
     ],
     "prompt_number": 4
    },
    {
     "cell_type": "markdown",
     "metadata": {},
     "source": [
      "15-2 Longest palindrome subsequence"
     ]
    },
    {
     "cell_type": "code",
     "collapsed": false,
     "input": [
      "def LCS(s):\n",
      "    n = len(s)\n",
      "    \n",
      "    length = [[0 for i in range(n+1)] for j in range(n+1)] \n",
      "    # length of LCS by letters\n",
      "    \n",
      "    trace = [[0 for i in range(n+1)] for j in range(n+1)] \n",
      "    # 00: No common letters up to this point; \n",
      "    # 01: Next on i direction (going up)\n",
      "    # 10: Next on j direction (going left)\n",
      "    # 11: Next on both direction (going northwest)\n",
      "\n",
      "    for i in range(1,n+1):\n",
      "        for j in range(1,n+1):\n",
      "            if s[i-1] == s[-j]:\n",
      "                length[i][j]=length[i-1][j-1]+1\n",
      "                trace[i][j]=3\n",
      "            elif length[i-1][j]>=length[i][j-1]:\n",
      "                length[i][j]=length[i-1][j]\n",
      "                trace[i][j]=1\n",
      "            else:\n",
      "                length[i][j]=length[i][j-1]\n",
      "                trace[i][j]=2\n",
      "    \n",
      "    i = n\n",
      "    j = n    \n",
      "    result = \"\"\n",
      "    \n",
      "    while i>0 and j>0:\n",
      "        if trace[i][j]==3:\n",
      "            result = result + s[i-1]\n",
      "            i=i-1\n",
      "            j=j-1\n",
      "        elif trace[i][j]==1:\n",
      "            i = i-1\n",
      "        else: j = j-1\n",
      "    return result\n",
      "\n",
      "print LCS(\"character\")\n",
      "print LCS(\"aibohphobia\")\n",
      "print LCS(\"abced\")\n"
     ],
     "language": "python",
     "metadata": {},
     "outputs": [
      {
       "output_type": "stream",
       "stream": "stdout",
       "text": [
        "carac\n",
        "aibohphobia\n",
        "a\n"
       ]
      }
     ],
     "prompt_number": 5
    },
    {
     "cell_type": "code",
     "collapsed": false,
     "input": [
      "15-4: Neat Printing"
     ],
     "language": "python",
     "metadata": {},
     "outputs": []
    },
    {
     "cell_type": "code",
     "collapsed": false,
     "input": [
      "l = [1,6,5,7,5,8,6,4,9,6,8,5,8,5,8,7,4,3,2,9,5,4,1,5,2,3,9,6,4,5,6,2,3,4,8,2,3,6,7]\n",
      "m = 20\n",
      "n = len(l)\n",
      "\n",
      "extras = \n",
      "\n",
      "def print_neatly(l, m):\n",
      "    "
     ],
     "language": "python",
     "metadata": {},
     "outputs": []
    }
   ],
   "metadata": {}
  }
 ]
}